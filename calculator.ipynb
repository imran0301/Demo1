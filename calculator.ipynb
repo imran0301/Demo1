{
 "cells": [
  {
   "cell_type": "code",
   "execution_count": 13,
   "metadata": {},
   "outputs": [
    {
     "name": "stdout",
     "output_type": "stream",
     "text": [
      "Enter the first number 3\n",
      "Enter the 2nd number 5\n",
      "Enter the operater for operation /\n",
      "The result is 0.6\n"
     ]
    }
   ],
   "source": [
    "def add(a,b):\n",
    "    if input3 ==\"*\":\n",
    "        return a*b\n",
    "    elif input3 == \"+\":\n",
    "        return a+b\n",
    "    elif input3 ==\"/\":\n",
    "        return a/b\n",
    "    elif input3 ==\"-\":\n",
    "        return a-b\n",
    "     \n",
    "input1 = int(input(\"Enter the first number \"))\n",
    "\n\n",
    "input2 = int(input(\"Enter the 2nd number \"))\n",
    "input3 = input(\"Enter the operater for operation \")\n",
    "if input3 ==\"+\":\n",
    "    result = add(input1,input2)\n",
    "    print(\"The result is \" +str(result))\n",
    "elif input3 == \"*\":\n",
    "    result = add(input1,input2)\n",
    "    print(\"The result is \"+str(result))\n",
    "elif input3 == \"/\":\n",
    "    result = add(input1,input2)\n",
    "    print(\"The result is \"+str(result))\n",
    "elif input3 == \"-\":\n",
    "    result = add(input1,input2)\n",
    "    print(\"The result is \"+str(result))"
   ]
  }
 ],
 "metadata": {
  "kernelspec": {
   "display_name": "Python 3",
   "language": "python",
   "name": "python3"
  },
  "language_info": {
   "codemirror_mode": {
    "name": "ipython",
    "version": 3
   },
   "file_extension": ".py",
   "mimetype": "text/x-python",
   "name": "python",
   "nbconvert_exporter": "python",
   "pygments_lexer": "ipython3",
   "version": "3.6.9"
  }
 },
 "nbformat": 4,
 "nbformat_minor": 4
}
